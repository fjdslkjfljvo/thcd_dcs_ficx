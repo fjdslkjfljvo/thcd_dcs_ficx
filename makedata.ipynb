{
 "cells": [
  {
   "cell_type": "code",
   "execution_count": 1,
   "id": "dcc64515-0aed-4de5-bde1-0eaa629cea5e",
   "metadata": {},
   "outputs": [],
   "source": [
    "import numpy as np\n",
    "import pandas as pd"
   ]
  },
  {
   "cell_type": "code",
   "execution_count": 16,
   "id": "0d88d79e-bb57-4c8f-89dc-ddaee7b43eb5",
   "metadata": {},
   "outputs": [],
   "source": [
    "data = []\n",
    "for ii in range(50000):\n",
    "    i=ii*0.05\n",
    "    arr = np.array([np.sin(i)+100, np.cos(i)+100, (i%2)+100, (i%3)+100])\n",
    "    arr += 0.2*np.random.randn(4)\n",
    "    data.append(arr)\n",
    "    \n",
    "\n",
    "df = pd.DataFrame(data, columns=['a.px', 'b.px', 'c.px', 'd.px'])\n",
    "\n",
    "df.to_csv('data/traindata.csv', index=True)"
   ]
  },
  {
   "cell_type": "code",
   "execution_count": null,
   "id": "300f64c8-34d9-4a9c-abf1-d9a2a7388807",
   "metadata": {},
   "outputs": [],
   "source": []
  }
 ],
 "metadata": {
  "kernelspec": {
   "display_name": "Python 3 (ipykernel)",
   "language": "python",
   "name": "python3"
  },
  "language_info": {
   "codemirror_mode": {
    "name": "ipython",
    "version": 3
   },
   "file_extension": ".py",
   "mimetype": "text/x-python",
   "name": "python",
   "nbconvert_exporter": "python",
   "pygments_lexer": "ipython3",
   "version": "3.10.6"
  }
 },
 "nbformat": 4,
 "nbformat_minor": 5
}
